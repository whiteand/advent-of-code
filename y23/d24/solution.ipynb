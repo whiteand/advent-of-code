{
 "cells": [
  {
   "cell_type": "code",
   "execution_count": 44,
   "metadata": {},
   "outputs": [],
   "source": [
    "import numpy as np\n",
    "import scipy as sp\n",
    "import sympy as sym\n",
    "import time "
   ]
  },
  {
   "cell_type": "code",
   "execution_count": 45,
   "metadata": {},
   "outputs": [],
   "source": [
    "data = [\n",
    "    (np.array((19, 13, 30)), np.array((-2,  1, -2))),\n",
    "    (np.array((18, 19, 22)), np.array((-1, -1, -2))),\n",
    "    (np.array((20, 25, 34)), np.array((-2, -2, -4))),\n",
    "    (np.array((12, 31, 28)), np.array((-1, -2, -1))),\n",
    "    (np.array((20, 19, 15)), np.array(( 1, -5, -3)))\n",
    "]"
   ]
  },
  {
   "cell_type": "markdown",
   "metadata": {},
   "source": [
    "$$\n",
    "p + v*t_i = p_i + v_i * t_i\n",
    "$$"
   ]
  },
  {
   "cell_type": "code",
   "execution_count": 56,
   "metadata": {},
   "outputs": [
    {
     "name": "stdout",
     "output_type": "stream",
     "text": [
      "  t0 = (-P0x + px)/(V0x - vx) = (-P0y + py)/(V0y - vy) = (-P0z + pz)/(V0z - vz)\n",
      "  t1 = (-P1x + px)/(V1x - vx) = (-P1y + py)/(V1y - vy) = (-P1z + pz)/(V1z - vz)\n",
      "  t2 = (-P2x + px)/(V2x - vx) = (-P2y + py)/(V2y - vy) = (-P2z + pz)/(V2z - vz)\n",
      "from t0x and t0y:\n",
      "   -P0x*V0y + P0x*vy + P0y*V0x - P0y*vx - V0x*py + V0y*px - px*vy + py*vx = 0\n",
      "from t0x and t0z:\n",
      "   -P0x*V0z + P0x*vz + P0z*V0x - P0z*vx - V0x*pz + V0z*px - px*vz + pz*vx = 0\n",
      "We can rewrite the equations above as:\n",
      "   -P0x*V0y + P0x*vy + P0y*V0x - P0y*vx - V0x*py + V0y*px = px*vy - py*vx\n",
      "   -P0x*V0z + P0x*vz + P0z*V0x - P0z*vx - V0x*pz + V0z*px = px*vz - pz*vx\n",
      "we see that RHS is independent of the exact hailstone we are looking at\n",
      "-P0x*V0y + P0x*vy + P0y*V0x - P0y*vx + P1x*V1y - P1x*vy - P1y*V1x + P1y*vx - V0x*py + V0y*px + V1x*py - V1y*px = 0\n",
      "-P0x*V0z + P0x*vz + P0z*V0x - P0z*vx + P1x*V1z - P1x*vz - P1z*V1x + P1z*vx - V0x*pz + V0z*px + V1x*pz - V1z*px = 0\n",
      "-P0y*V0z + P0y*vz + P0z*V0y - P0z*vy + P1y*V1z - P1y*vz - P1z*V1y + P1z*vy - V0y*pz + V0z*py + V1y*pz - V1z*py = 0\n",
      "-P0x*V0y + P0x*vy + P0y*V0x - P0y*vx + P2x*V2y - P2x*vy - P2y*V2x + P2y*vx - V0x*py + V0y*px + V2x*py - V2y*px = 0\n",
      "-P0x*V0z + P0x*vz + P0z*V0x - P0z*vx + P2x*V2z - P2x*vz - P2z*V2x + P2z*vx - V0x*pz + V0z*px + V2x*pz - V2z*px = 0\n",
      "-P0y*V0z + P0y*vz + P0z*V0y - P0z*vy + P2y*V2z - P2y*vz - P2z*V2y + P2z*vy - V0y*pz + V0z*py + V2y*pz - V2z*py = 0\n",
      "P0x*V0y - P0y*V0x - P1x*V1y + P1y*V1x\n",
      "P0x*V0z - P0z*V0x - P1x*V1z + P1z*V1x\n",
      "P0y*V0z - P0z*V0y - P1y*V1z + P1z*V1y\n",
      "P0x*V0y - P0y*V0x - P2x*V2y + P2y*V2x\n",
      "P0x*V0z - P0z*V0x - P2x*V2z + P2z*V2x\n",
      "P0y*V0z - P0z*V0y - P2y*V2z + P2z*V2y\n"
     ]
    }
   ],
   "source": [
    "px, py, pz = sym.symbols('px py pz')\n",
    "vx, vy, vz = sym.symbols('vx vy vz')\n",
    "t0, t1, t2 = sym.symbols('t0 t1 t2')\n",
    "P0x, P0y, P0z = sym.symbols('P0x P0y P0z')\n",
    "P1x, P1y, P1z = sym.symbols('P1x P1y P1z')\n",
    "P2x, P2y, P2z = sym.symbols('P2x P2y P2z')\n",
    "V0x, V0y, V0z = sym.symbols('V0x V0y V0z')\n",
    "V1x, V1y, V1z = sym.symbols('V1x V1y V1z')\n",
    "V2x, V2y, V2z = sym.symbols('V2x V2y V2z')\n",
    "\n",
    "p = sym.Matrix([px, py, pz])\n",
    "v = sym.Matrix([vx, vy, vz])\n",
    "\n",
    "P0 = sym.Matrix([P0x, P0y, P0z])\n",
    "P1 = sym.Matrix([P1x, P1y, P1z])\n",
    "P2 = sym.Matrix([P2x, P2y, P2z])\n",
    "\n",
    "V0 = sym.Matrix([V0x, V0y, V0z])\n",
    "V1 = sym.Matrix([V1x, V1y, V1z])\n",
    "V2 = sym.Matrix([V2x, V2y, V2z])\n",
    "\n",
    "\n",
    "t0x_sol = sym.solve(((p + v * t0) - (P0 + V0 * t0))[0], [t0])[0]\n",
    "t0y_sol = sym.solve(((p + v * t0) - (P0 + V0 * t0))[1], [t0])[0]\n",
    "t0z_sol = sym.solve(((p + v * t0) - (P0 + V0 * t0))[2], [t0])[0]\n",
    "t1x_sol = sym.solve(((p + v * t1) - (P1 + V1 * t1))[0], [t1])[0]\n",
    "t1y_sol = sym.solve(((p + v * t1) - (P1 + V1 * t1))[1], [t1])[0]\n",
    "t1z_sol = sym.solve(((p + v * t1) - (P1 + V1 * t1))[2], [t1])[0]\n",
    "t2x_sol = sym.solve(((p + v * t2) - (P2 + V2 * t2))[0], [t2])[0]\n",
    "t2y_sol = sym.solve(((p + v * t2) - (P2 + V2 * t2))[1], [t2])[0]\n",
    "t2z_sol = sym.solve(((p + v * t2) - (P2 + V2 * t2))[2], [t2])[0]\n",
    "\n",
    "print(\"  t0 =\", t0x_sol, '=', t0y_sol, '=', t0z_sol)\n",
    "print(\"  t1 =\", t1x_sol, '=', t1y_sol, '=', t1z_sol)\n",
    "print(\"  t2 =\", t2x_sol, '=', t2y_sol, '=', t2z_sol)\n",
    "\n",
    "t0xy = t0x_sol - t0y_sol\n",
    "\n",
    "print(\"from t0x and t0y:\")\n",
    "print(\"  \", (t0x_sol - t0y_sol).__mul__(V0x - vx).__mul__(V0y - vy).expand().simplify(), \"= 0\")\n",
    "print(\"from t0x and t0z:\")\n",
    "print(\"  \", (t0x_sol - t0z_sol).__mul__(V0x - vx).__mul__(V0z - vz).expand().simplify(), \"= 0\")\n",
    "print(\"We can rewrite the equations above as:\")\n",
    "print(\"  \", (t0x_sol - t0y_sol)\n",
    "    .__mul__(V0x - vx)\n",
    "    .__mul__(V0y - vy)\n",
    "    .expand()\n",
    "    .simplify()\n",
    "    .__add__(px*vy - py*vx)\n",
    "    , \"=\", px*vy - py*vx)\n",
    "print(\"  \", (t0x_sol - t0z_sol)\n",
    "    .__mul__(V0x - vx)\n",
    "    .__mul__(V0z - vz)\n",
    "    .expand().simplify()\n",
    "    .__add__(px*vz - pz*vx)\n",
    "    , \"=\", px*vz - pz*vx)\n",
    "print(\"we see that RHS is independent of the exact hailstone we are looking at\")\n",
    "equations = [\n",
    "    (t0x_sol - t0y_sol)\n",
    "    .__mul__(V0x - vx)\n",
    "    .__mul__(V0y - vy)\n",
    "    .expand()\n",
    "    .simplify()\n",
    "    .__add__(px*vy - py*vx) - (t1x_sol - t1y_sol)\n",
    "    .__mul__(V1x - vx)\n",
    "    .__mul__(V1y - vy)\n",
    "    .expand()\n",
    "    .simplify()\n",
    "    .__add__(px*vy - py*vx).simplify(),\n",
    "    (t0x_sol - t0z_sol)\n",
    "    .__mul__(V0x - vx)\n",
    "    .__mul__(V0z - vz)\n",
    "    .expand()\n",
    "    .simplify()\n",
    "    .__add__(px*vz - pz*vx) - (t1x_sol - t1z_sol)\n",
    "    .__mul__(V1x - vx)\n",
    "    .__mul__(V1z - vz)\n",
    "    .expand()\n",
    "    .simplify()\n",
    "    .__add__(px*vz - pz*vx).simplify(),\n",
    "    (t0y_sol - t0z_sol)\n",
    "    .__mul__(V0y - vy)\n",
    "    .__mul__(V0z - vz)\n",
    "    .expand()\n",
    "    .simplify()\n",
    "    .__add__(py*vz - pz*vy) - (t1y_sol - t1z_sol)\n",
    "    .__mul__(V1y - vy)\n",
    "    .__mul__(V1z - vz)\n",
    "    .expand()\n",
    "    .simplify()\n",
    "    .__add__(py*vz - pz*vy).simplify(),\n",
    "    (t0x_sol - t0y_sol)\n",
    "    .__mul__(V0x - vx)\n",
    "    .__mul__(V0y - vy)\n",
    "    .expand()\n",
    "    .simplify()\n",
    "    .__add__(px*vy - py*vx) - (t2x_sol - t2y_sol)\n",
    "    .__mul__(V2x - vx)\n",
    "    .__mul__(V2y - vy)\n",
    "    .expand()\n",
    "    .simplify()\n",
    "    .__add__(px*vy - py*vx).simplify(),\n",
    "    (t0x_sol - t0z_sol)\n",
    "    .__mul__(V0x - vx)\n",
    "    .__mul__(V0z - vz)\n",
    "    .expand()\n",
    "    .simplify()\n",
    "    .__add__(px*vz - pz*vx) - (t2x_sol - t2z_sol)\n",
    "    .__mul__(V2x - vx)\n",
    "    .__mul__(V2z - vz)\n",
    "    .expand()\n",
    "    .simplify()\n",
    "    .__add__(px*vz - pz*vx).simplify(),\n",
    "    (t0y_sol - t0z_sol)\n",
    "    .__mul__(V0y - vy)\n",
    "    .__mul__(V0z - vz)\n",
    "    .expand()\n",
    "    .simplify()\n",
    "    .__add__(py*vz - pz*vy) - (t2y_sol - t2z_sol)\n",
    "    .__mul__(V2y - vy)\n",
    "    .__mul__(V2z - vz)\n",
    "    .expand()\n",
    "    .simplify()\n",
    "    .__add__(py*vz - pz*vy).simplify(),\n",
    "]\n",
    "\n",
    "for eq in equations:\n",
    "    print(eq, \"= 0\")\n",
    "for eq in equations:\n",
    "    s = eq.coeff(px) * px\n",
    "    for i in (py, pz, vx, vy, vz):\n",
    "        s += eq.coeff(i) * i\n",
    "    print((s - eq).simplify())\n"
   ]
  },
  {
   "cell_type": "markdown",
   "metadata": {},
   "source": [
    "$$\n",
    "\\begin{cases}\n",
    "-P_{0x}*V_{0y} + P_{0x}*v_y + P_{0y}*V_{0x} - P_{0y}*v_x + P_{1x}*V_{1y} - P_{1x}*v_y - P_{1y}*V_{1x} + P_{1y}*v_x - V_{0x}*p_y + V_{0y}*p_x + V_{1x}*p_y - V_{1y}*p_x = 0 \\\\\n",
    "-P_{0x}*V_{0z} + P_{0x}*vz + P_{0z}*V_{0x} - P_{0z}*v_x + P_{1x}*V_{1z} - P_{1x}*vz - P_{1z}*V_{1x} + P_{1z}*v_x - V_{0x}*p_z + V_{0z}*p_x + V_{1x}*p_z - V_{1z}*p_x = 0 \\\\\n",
    "-P_{0y}*V_{0z} + P_{0y}*vz + P_{0z}*V_{0y} - P_{0z}*v_y + P_{1y}*V_{1z} - P_{1y}*vz - P_{1z}*V_{1y} + P_{1z}*v_y - V_{0y}*p_z + V_{0z}*p_y + V_{1y}*p_z - V_{1z}*p_y = 0 \\\\\n",
    "-P_{0x}*V_{0y} + P_{0x}*v_y + P_{0y}*V_{0x} - P_{0y}*v_x + P_{2x}*V_{2y} - P_{2x}*v_y - P_{2y}*V_{2x} + P_{2y}*v_x - V_{0x}*p_y + V_{0y}*p_x + V_{2x}*p_y - V_{2y}*p_x = 0 \\\\\n",
    "-P_{0x}*V_{0z} + P_{0x}*vz + P_{0z}*V_{0x} - P_{0z}*v_x + P_{2x}*V_{2z} - P_{2x}*vz - P_{2z}*V_{2x} + P_{2z}*v_x - V_{0x}*p_z + V_{0z}*p_x + V_{2x}*p_z - V_{2z}*p_x = 0 \\\\\n",
    "-P_{0y}*V_{0z} + P_{0y}*vz + P_{0z}*V_{0y} - P_{0z}*v_y + P_{2y}*V_{2z} - P_{2y}*vz - P_{2z}*V_{2y} + P_{2z}*v_y - V_{0y}*p_z + V_{0z}*p_y + V_{2y}*p_z - V_{2z}*p_y = 0 \\\\\n",
    "\\end{cases}\n",
    "$$"
   ]
  },
  {
   "cell_type": "code",
   "execution_count": 57,
   "metadata": {},
   "outputs": [],
   "source": [
    "def solve(data):\n",
    "    P0, V0 = data[0]\n",
    "    P1, V1 = data[1]\n",
    "    P2, V2 = data[2]\n",
    "\n",
    "    V0x, V0y, V0z = V0\n",
    "    V1x, V1y, V1z = V1\n",
    "    V2x, V2y, V2z = V2\n",
    "\n",
    "    P0x, P0y, P0z = P0\n",
    "    P1x, P1y, P1z = P1\n",
    "    P2x, P2y, P2z = P2\n",
    "\n",
    "    A = np.array([\n",
    "        [V0y - V1y,-V0x + V1x,0,-P0y + P1y , P0x - P1x , 0],\n",
    "        [V0z - V1z,0,-V0x + V1x,-P0z + P1z , 0 , P0x - P1x],\n",
    "        [0,V0z - V1z,-V0y + V1y,0 , -P0z + P1z , P0y - P1y],\n",
    "        [V0y - V2y,-V0x + V2x,0,-P0y + P2y , P0x - P2x , 0],\n",
    "        [V0z - V2z,0,-V0x + V2x,-P0z + P2z , 0 , P0x - P2x],\n",
    "        [0,V0z - V2z,-V0y + V2y,0 , -P0z + P2z , P0y - P2y],\n",
    "    ])\n",
    "    b = np.array([\n",
    "        P0x*V0y - P0y*V0x - P1x*V1y + P1y*V1x,\n",
    "        P0x*V0z - P0z*V0x - P1x*V1z + P1z*V1x,\n",
    "        P0y*V0z - P0z*V0y - P1y*V1z + P1z*V1y,\n",
    "        P0x*V0y - P0y*V0x - P2x*V2y + P2y*V2x,\n",
    "        P0x*V0z - P0z*V0x - P2x*V2z + P2z*V2x,\n",
    "        P0y*V0z - P0z*V0y - P2y*V2z + P2z*V2y,\n",
    "    ])\n",
    "    return np.linalg.solve(A, b)"
   ]
  },
  {
   "cell_type": "code",
   "execution_count": 60,
   "metadata": {},
   "outputs": [
    {
     "data": {
      "text/plain": [
       "46.99999999999999"
      ]
     },
     "execution_count": 60,
     "metadata": {},
     "output_type": "execute_result"
    }
   ],
   "source": [
    "px, py, pz, _, _, _ = solve(data)\n",
    "px + py + pz"
   ]
  },
  {
   "cell_type": "code",
   "execution_count": 85,
   "metadata": {},
   "outputs": [
    {
     "data": {
      "text/plain": [
       "[(array([211614908752320, 355884497165907, 259696313651729]),\n",
       "  array([  15, -119,   26])),\n",
       " (array([403760160726375, 378047702508912, 174017730109516]),\n",
       "  array([ -18, -130,  147])),\n",
       " (array([144186255945915, 328686782113692, 276690520845056]),\n",
       "  array([  -7,  147, -255])),\n",
       " (array([299201969056161, 237456995776920,  10519998213462]),\n",
       "  array([ 93,  50, 366])),\n",
       " (array([318259016385963, 232634818611690, 332436547677046]),\n",
       "  array([  6,  92, -77]))]"
      ]
     },
     "execution_count": 85,
     "metadata": {},
     "output_type": "execute_result"
    }
   ],
   "source": [
    "def parse_line(t: str):\n",
    "    \n",
    "    a, b = t.strip().split('@')\n",
    "    p = np.array([int(x.strip()) for x in a.split(',')])\n",
    "    v = np.array([int(x.strip()) for x in b.split(',')])\n",
    "\n",
    "    return (p, v)\n",
    "\n",
    "real_data = [parse_line(line) for i, line in enumerate(open('input.txt', 'r')) if i < 5]\n",
    "real_data"
   ]
  },
  {
   "cell_type": "code",
   "execution_count": 87,
   "metadata": {},
   "outputs": [
    {
     "data": {
      "text/plain": [
       "716599937560103.0"
      ]
     },
     "execution_count": 87,
     "metadata": {},
     "output_type": "execute_result"
    }
   ],
   "source": [
    "px, py, pz, _, _, _ = solve(real_data)\n",
    "px + py + pz"
   ]
  },
  {
   "cell_type": "code",
   "execution_count": null,
   "metadata": {},
   "outputs": [],
   "source": []
  }
 ],
 "metadata": {
  "kernelspec": {
   "display_name": "Python 3",
   "language": "python",
   "name": "python3"
  },
  "language_info": {
   "codemirror_mode": {
    "name": "ipython",
    "version": 3
   },
   "file_extension": ".py",
   "mimetype": "text/x-python",
   "name": "python",
   "nbconvert_exporter": "python",
   "pygments_lexer": "ipython3",
   "version": "3.11.6"
  }
 },
 "nbformat": 4,
 "nbformat_minor": 2
}
