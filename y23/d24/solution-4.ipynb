{
 "cells": [
  {
   "cell_type": "code",
   "execution_count": 1,
   "metadata": {},
   "outputs": [],
   "source": [
    "import numpy as np\n",
    "import scipy as sp\n",
    "import sympy as sym\n",
    "import time "
   ]
  },
  {
   "cell_type": "code",
   "execution_count": 2,
   "metadata": {},
   "outputs": [],
   "source": [
    "data = [\n",
    "    (np.array((19, 13, 30)), np.array((-2,  1, -2))),\n",
    "    (np.array((18, 19, 22)), np.array((-1, -1, -2))),\n",
    "    (np.array((20, 25, 34)), np.array((-2, -2, -4))),\n",
    "    (np.array((12, 31, 28)), np.array((-1, -2, -1))),\n",
    "    (np.array((20, 19, 15)), np.array(( 1, -5, -3)))\n",
    "]"
   ]
  },
  {
   "cell_type": "markdown",
   "metadata": {},
   "source": [
    "$$\n",
    "p + v*t_i = p_i + v_i * t_i\n",
    "$$"
   ]
  },
  {
   "cell_type": "markdown",
   "metadata": {},
   "source": [
    "$$\n",
    "\\begin{cases}\n",
    "p + v * t_0 = p_0 + v_0 * t_0 \\\\\n",
    "p + v * t_1 = p_1 + v_1 * t_1\n",
    "\\end{cases}\n",
    "$$\n"
   ]
  },
  {
   "cell_type": "markdown",
   "metadata": {},
   "source": [
    "$$\n",
    "\\begin{cases}\n",
    "  t_0 = (P_{0x} - p_x)/(v_x - V_{0x})\\\\\n",
    "  t_0 = (P_{0y} - p_y)/(v_y - V_{0y})\\\\\n",
    "  t_0 = (P_{0z} - p_z)/(v_z - V_{0z})\\\\\n",
    "\\end{cases}\n",
    "$$\n"
   ]
  },
  {
   "cell_type": "markdown",
   "metadata": {},
   "source": [
    "$$\n",
    "(P_{0x} - p_x)*(v_y - V_{0y}) = (P_{0y} - p_y)*(v_x - V_{0x})\n",
    "$$\n"
   ]
  },
  {
   "cell_type": "markdown",
   "metadata": {},
   "source": [
    "\n",
    "$$\n",
    " v_y *P_{0x} +  V_{0y}*p_x - V_{0y} * P_{0x} = P_{0y}*v_x - P_{0y}*V_{0x} + p_y*V_{0x}\n",
    "$$"
   ]
  },
  {
   "cell_type": "markdown",
   "metadata": {},
   "source": [
    "\n",
    "$$\n",
    "\\begin{cases}\n",
    " V_{0y}*p_x - V_{0x} * p_y - P_{0y}*v_x + P_{0x} * v_y =V_{0y} * P_{0x} - P_{0y}*V_{0x} \\\\\n",
    " V_{0z}*p_y - V_{0y} * p_z - P_{0z}*v_y + P_{0y} * v_z =V_{0z} * P_{0y} - P_{0z}*V_{0y} \\\\\n",
    " V_{1y}*p_x - V_{1x} * p_y - P_{1y}*v_x + P_{1x} * v_y =V_{1y} * P_{1x} - P_{1y}*V_{1x} \\\\\n",
    " V_{1z}*p_y - V_{1y} * p_z - P_{1z}*v_y + P_{1y} * v_z =V_{1z} * P_{1y} - P_{1z}*V_{1y} \\\\\n",
    " V_{2y}*p_x - V_{2x} * p_y - P_{2y}*v_x + P_{2x} * v_y =V_{2y} * P_{2x} - P_{2y}*V_{2x} \\\\\n",
    " V_{2z}*p_y - V_{2y} * p_z - P_{2z}*v_y + P_{2y} * v_z =V_{2z} * P_{2y} - P_{2z}*V_{2y} \\\\\n",
    "\\end{cases}\n",
    "$$"
   ]
  },
  {
   "cell_type": "code",
   "execution_count": 28,
   "metadata": {},
   "outputs": [],
   "source": [
    "def solve(data):\n",
    "    p0, v0 = data[0]\n",
    "    p1, v1 = data[1]\n",
    "    p2, v2 = data[2]\n",
    "    # + v0[1]*p_x - v0[0]*p_y - p0[1]*v_x + p0[0]*v_y = v0[1]*p0[0] - p0[1]*v0[0]\n",
    "    # + v0[2]*p_y - v0[1]*p_z - p0[2]*v_y + p0[1]*v_z = v0[2]*p0[1] - p0[2]*v0[1]\n",
    "    # + v1[1]*p_x - v1[0]*p_y - p1[1]*v_x + p1[0]*v_y = v1[1]*p1[0] - p1[1]*v1[0]\n",
    "    # + v1[2]*p_y - v1[1]*p_z - p1[2]*v_y + p1[1]*v_z = v1[2]*p1[1] - p1[2]*v1[1]\n",
    "    # + v2[1]*p_x - v2[0]*p_y - p2[1]*v_x + p2[0]*v_y = v2[1]*p2[0] - p2[1]*v2[0]\n",
    "    # + v2[2]*p_y - v2[1]*p_z - p2[2]*v_y + p2[1]*v_z = v2[2]*p2[1] - p2[2]*v2[1]\n",
    "\n",
    "    A = np.array([\n",
    "       [v0[1], - v0[0], 0, - p0[1], + p0[0], 0],\n",
    "       [0, + v0[2], - v0[1], 0, - p0[2], + p0[1]],\n",
    "       [v1[1], - v1[0], 0, - p1[1], + p1[0], 0],\n",
    "       [0, + v1[2], - v1[1], 0, - p1[2], + p1[1]],\n",
    "       [v2[1], - v2[0], 0, - p2[1], + p2[0], 0],\n",
    "       [0, + v2[2], - v2[1], 0, - p2[2], + p2[1]],\n",
    "\n",
    "    ])\n",
    "    b = np.array([\n",
    "        v0[1]*p0[0] - p0[1]*v0[0],\n",
    "        v0[2]*p0[1] - p0[2]*v0[1],\n",
    "        v1[1]*p1[0] - p1[1]*v1[0],\n",
    "        v1[2]*p1[1] - p1[2]*v1[1],\n",
    "        v2[1]*p2[0] - p2[1]*v2[0],\n",
    "        v2[2]*p2[1] - p2[2]*v2[1],\n",
    "    ])\n",
    "    return np.linalg.solve(A, b)"
   ]
  },
  {
   "cell_type": "code",
   "execution_count": 34,
   "metadata": {},
   "outputs": [
    {
     "data": {
      "text/plain": [
       "array([21.14085914, 24.88211788, 21.48851149, -1.43056943, -1.66233766,\n",
       "       -1.27872128])"
      ]
     },
     "execution_count": 34,
     "metadata": {},
     "output_type": "execute_result"
    }
   ],
   "source": [
    "sol = solve(data[1:])\n",
    "sol"
   ]
  },
  {
   "cell_type": "code",
   "execution_count": null,
   "metadata": {},
   "outputs": [],
   "source": []
  }
 ],
 "metadata": {
  "kernelspec": {
   "display_name": "Python 3",
   "language": "python",
   "name": "python3"
  },
  "language_info": {
   "codemirror_mode": {
    "name": "ipython",
    "version": 3
   },
   "file_extension": ".py",
   "mimetype": "text/x-python",
   "name": "python",
   "nbconvert_exporter": "python",
   "pygments_lexer": "ipython3",
   "version": "3.11.6"
  }
 },
 "nbformat": 4,
 "nbformat_minor": 2
}
